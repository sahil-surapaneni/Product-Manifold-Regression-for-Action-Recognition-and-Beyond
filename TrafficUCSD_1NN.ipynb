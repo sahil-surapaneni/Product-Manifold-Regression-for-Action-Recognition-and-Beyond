{
 "cells": [
  {
   "cell_type": "code",
   "execution_count": 196,
   "metadata": {},
   "outputs": [
    {
     "ename": "ImportError",
     "evalue": "cannot import name 'model_selection' from 'sklearn' (C:\\Users\\sahil\\anaconda3\\lib\\site-packages\\sklearn\\__init__.py)",
     "output_type": "error",
     "traceback": [
      "\u001b[1;31m---------------------------------------------------------------------------\u001b[0m",
      "\u001b[1;31mImportError\u001b[0m                               Traceback (most recent call last)",
      "\u001b[1;32m<ipython-input-196-eab11d3d0532>\u001b[0m in \u001b[0;36m<module>\u001b[1;34m\u001b[0m\n\u001b[0;32m      3\u001b[0m \u001b[1;32mimport\u001b[0m \u001b[0mos\u001b[0m\u001b[1;33m\u001b[0m\u001b[1;33m\u001b[0m\u001b[0m\n\u001b[0;32m      4\u001b[0m \u001b[1;33m\u001b[0m\u001b[0m\n\u001b[1;32m----> 5\u001b[1;33m \u001b[1;32mfrom\u001b[0m \u001b[0msklearn\u001b[0m \u001b[1;32mimport\u001b[0m \u001b[0mmodel_selection\u001b[0m\u001b[1;33m\u001b[0m\u001b[1;33m\u001b[0m\u001b[0m\n\u001b[0m\u001b[0;32m      6\u001b[0m \u001b[1;32mfrom\u001b[0m \u001b[0msklearn\u001b[0m\u001b[1;33m.\u001b[0m\u001b[0mmodel_selection\u001b[0m \u001b[1;32mimport\u001b[0m \u001b[0mtrain_test_split\u001b[0m\u001b[1;33m\u001b[0m\u001b[1;33m\u001b[0m\u001b[0m\n\u001b[0;32m      7\u001b[0m \u001b[1;32mfrom\u001b[0m \u001b[0msklearn\u001b[0m\u001b[1;33m.\u001b[0m\u001b[0mmetrics\u001b[0m \u001b[1;32mimport\u001b[0m \u001b[0mconfusion_matrix\u001b[0m\u001b[1;33m\u001b[0m\u001b[1;33m\u001b[0m\u001b[0m\n",
      "\u001b[1;31mImportError\u001b[0m: cannot import name 'model_selection' from 'sklearn' (C:\\Users\\sahil\\anaconda3\\lib\\site-packages\\sklearn\\__init__.py)"
     ]
    }
   ],
   "source": [
    "import cv2\n",
    "import numpy as np\n",
    "import os\n",
    "\n",
    "from sklearn import model_selection\n",
    "from sklearn.model_selection import train_test_split\n",
    "from sklearn.metrics import confusion_matrix\n",
    "\n",
    "from OneNN import PM1NN\n",
    "from Karcher_Mean import KarcherLSR"
   ]
  },
  {
   "cell_type": "code",
   "execution_count": null,
   "metadata": {},
   "outputs": [],
   "source": [
    "def import_traffic(numFrames=35,height=50,width=50):\n",
    "    \"\"\"\n",
    "    Collects data from /data/ folder in current working directory, with folder names as labels.\n",
    "    Inputs:\n",
    "    -- numFrames=25\n",
    "    -- height=20,\n",
    "    -- width=20\n",
    "    Outputs:\n",
    "    -- Data as a numpy array (vid number,frame,height,width,color)\n",
    "    -- Ordered list of video labels\n",
    "    \"\"\"\n",
    "    dataDir = os.getcwd()+\"/trafficdb/video/\"\n",
    "    dataNameList = os.listdir(dataDir)\n",
    "    fileCount = 0\n",
    "    totalFiles = 0\n",
    "    ImMs=sio.loadmat(os.getcwd()+'/trafficdb/ImageMaster.mat')        \n",
    "    class_data = []\n",
    "    labelList = []\n",
    "    fname=[]\n",
    "    totalFiles = np.size(os.listdir(dataDir))\n",
    "    bigBuffer = np.zeros((totalFiles,numFrames,height,width))\n",
    "    data_label = []\n",
    "    #fileCount = 0\n",
    "    #for filename in os.listdir(dataDir):\n",
    "    for count in range(254):\n",
    "        s=ImMs['imagemaster'][0][count][0][0][1][0]\n",
    "        data_label.append(ImMs['imagemaster'][0][count][0][0][2][0])\n",
    "        filename=[''.join(s)][0]\n",
    "        fname.append(filename)\n",
    "        vid = cv2.VideoCapture(dataDir+\"/\"+filename+\".avi\")\n",
    "        vidFrames = int(vid.get(cv2.CAP_PROP_FRAME_COUNT))\n",
    "        buffer = np.zeros((numFrames,height,width))\n",
    "        for i in range(numFrames):\n",
    "            sane, thisFrame = vid.read()                \n",
    "            if not sane:\n",
    "                vid.set(cv2.CAP_PROP_POS_FRAMES, 0)\n",
    "                sane, thisFrame = vid.read()\n",
    "                if not sane:\n",
    "                    #print(\"something broke at\",i,filename)\n",
    "                    break\n",
    "                \n",
    "            scale = 1\n",
    "            height2, width2, channels = thisFrame.shape\n",
    "            centerX,centerY=int(height2/2),int(width2/2)\n",
    "            radiusX,radiusY = int(centerX*scale), int(centerY*scale)\n",
    "            minX,maxX=centerX-radiusX,centerX+radiusX\n",
    "            minY,maxY=centerY-radiusY,centerY+radiusY\n",
    "            cropped = thisFrame[minX:maxX, minY:maxY]\n",
    "                \n",
    "            buffer[i] = cv2.cvtColor(cv2.resize(cropped,(width,height)),cv2.COLOR_BGR2GRAY)\n",
    "                \n",
    "            #label.append(foldername)\n",
    "        bigBuffer[count]=buffer\n",
    "        #bigBuffer[fileCount] = buffer\n",
    "        #fileCount += 1\n",
    "        vid.release()\n",
    "    class_data.append(bigBuffer)\n",
    "        #labelList.append(label)    \n",
    "    return class_data[0],data_label,fname\n",
    "\n",
    "trafficdata, traffic_class, filename = import_traffic()"
   ]
  },
  {
   "cell_type": "code",
   "execution_count": null,
   "metadata": {},
   "outputs": [],
   "source": [
    "def predict(X_test,y_test,classifier):\n",
    "    pred = classifier.predict(X_test)\n",
    "    acc,per_class = compute_accuracy(pred,y_test)\n",
    "    return pred,acc,per_class"
   ]
  },
  {
   "cell_type": "code",
   "execution_count": null,
   "metadata": {},
   "outputs": [],
   "source": [
    "def compute_accuracy(pred,y_test):\n",
    "    assert len(pred) == len(y_test)\n",
    "    matrix = confusion_matrix(y_test, pred)\n",
    "    return (np.sum(np.array(pred) == np.array(y_test)) / len(pred)) * 100,matrix.diagonal()/matrix.sum(axis=1)"
   ]
  },
  {
   "cell_type": "code",
   "execution_count": null,
   "metadata": {},
   "outputs": [],
   "source": [
    "X_train, X_test, y_train, y_test = train_test_split(trafficdata,traffic_class,test_size = 0.4)"
   ]
  },
  {
   "cell_type": "code",
   "execution_count": null,
   "metadata": {},
   "outputs": [],
   "source": [
    "classifier = PM1NN()\n",
    "classifier.fit(X_train,y_train)"
   ]
  },
  {
   "cell_type": "code",
   "execution_count": null,
   "metadata": {},
   "outputs": [],
   "source": [
    "%%time\n",
    "pred,acc,per_class = predict(X_test,y_test,classifier)"
   ]
  },
  {
   "cell_type": "code",
   "execution_count": null,
   "metadata": {},
   "outputs": [],
   "source": [
    "print(acc,per_class)"
   ]
  }
 ],
 "metadata": {
  "kernelspec": {
   "display_name": "Python 3 (ipykernel)",
   "language": "python",
   "name": "python3"
  },
  "language_info": {
   "codemirror_mode": {
    "name": "ipython",
    "version": 3
   },
   "file_extension": ".py",
   "mimetype": "text/x-python",
   "name": "python",
   "nbconvert_exporter": "python",
   "pygments_lexer": "ipython3",
   "version": "3.8.3"
  }
 },
 "nbformat": 4,
 "nbformat_minor": 4
}
